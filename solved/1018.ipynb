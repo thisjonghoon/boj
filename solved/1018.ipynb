{
 "cells": [
  {
   "cell_type": "code",
   "execution_count": null,
   "metadata": {},
   "outputs": [],
   "source": [
    "# memory : 125336 KB\n",
    "# time : 128 ms\n",
    "\n",
    "def solution(n, m, input_list):\n",
    "    ans = 64\n",
    "    row = n - 7\n",
    "    col = m - 7\n",
    "\n",
    "    wb = ['WB'*4,'BW'*4,'WB'*4,'BW'*4,'WB'*4,'BW'*4,'WB'*4,'BW'*4]\n",
    "    bw = ['BW'*4,'WB'*4,'BW'*4,'WB'*4,'BW'*4,'WB'*4,'BW'*4,'WB'*4]\n",
    "\n",
    "    for r in range(1,row+1):\n",
    "        for c in  range(1,col+1):\n",
    "\n",
    "            diff_wb = 0\n",
    "            diff_bw = 0\n",
    "\n",
    "            for i in range(8):\n",
    "                for j in range(8):\n",
    "                    num = input_list[r+i-1][c+j-1]\n",
    "                    if num != wb[i][j]:\n",
    "                        diff_wb +=1\n",
    "                    if num != bw[i][j]:\n",
    "                        diff_bw +=1\n",
    "\n",
    "            diff = min(diff_wb,diff_bw)\n",
    "            ans = min(ans, diff)\n",
    "\n",
    "    print(ans)\n",
    "\n",
    "n, m = map(int, input().split(' '))\n",
    "\n",
    "input_list = []\n",
    "\n",
    "for _ in range(n):\n",
    "    input_list.append(input())\n",
    "\n",
    "solution(n, m, input_list)"
   ]
  }
 ],
 "metadata": {
  "interpreter": {
   "hash": "5bf88e84f9176c33eca98e8a29aa2f012f6284d6068efc5096ccf6b787077aec"
  },
  "kernelspec": {
   "display_name": "Python 3.7.3 64-bit ('base': conda)",
   "language": "python",
   "name": "python3"
  },
  "language_info": {
   "codemirror_mode": {
    "name": "ipython",
    "version": 3
   },
   "file_extension": ".py",
   "mimetype": "text/x-python",
   "name": "python",
   "nbconvert_exporter": "python",
   "pygments_lexer": "ipython3",
   "version": "3.7.3"
  },
  "orig_nbformat": 4
 },
 "nbformat": 4,
 "nbformat_minor": 2
}
