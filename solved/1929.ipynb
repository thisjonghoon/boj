{
 "cells": [
  {
   "cell_type": "code",
   "execution_count": 12,
   "metadata": {},
   "outputs": [
    {
     "name": "stdout",
     "output_type": "stream",
     "text": [
      "3\n",
      "5\n",
      "7\n",
      "11\n",
      "13\n"
     ]
    }
   ],
   "source": [
    "# memory : 129492 KB\n",
    "# time : 584 ms\n",
    "\n",
    "import math\n",
    "from collections import deque\n",
    "\n",
    "m,n = map(int,input().split(' '))\n",
    "\n",
    "prime_number = deque([2])\n",
    "\n",
    "def is_prime(n):\n",
    "    if n == 2 :\n",
    "        return True\n",
    "    elif n == 1 or n%2 == 0:\n",
    "        return False\n",
    "    else:\n",
    "        for d in range(3,int(math.sqrt(n))+1,2):\n",
    "            if n % d == 0:\n",
    "                return False\n",
    "        return True\n",
    "\n",
    "for num in range(m, n+1):\n",
    "    if is_prime(num):\n",
    "        print(num)"
   ]
  },
  {
   "cell_type": "code",
   "execution_count": null,
   "metadata": {},
   "outputs": [],
   "source": []
  }
 ],
 "metadata": {
  "interpreter": {
   "hash": "58f3200799d21aba491de0d207ae89fe19e8eb3408d50420b41a55932747002c"
  },
  "kernelspec": {
   "display_name": "Python 3.9.7 64-bit ('boj': conda)",
   "language": "python",
   "name": "python3"
  },
  "language_info": {
   "codemirror_mode": {
    "name": "ipython",
    "version": 3
   },
   "file_extension": ".py",
   "mimetype": "text/x-python",
   "name": "python",
   "nbconvert_exporter": "python",
   "pygments_lexer": "ipython3",
   "version": "3.9.7"
  },
  "orig_nbformat": 4
 },
 "nbformat": 4,
 "nbformat_minor": 2
}
