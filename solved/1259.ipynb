{
 "cells": [
  {
   "cell_type": "code",
   "execution_count": null,
   "metadata": {},
   "outputs": [],
   "source": [
    "# memory : 123316 KB\n",
    "# time : 108 ms\n",
    "\n",
    "def check(num):\n",
    "    if int(num)<10:\n",
    "        print('yes')\n",
    "    else:    \n",
    "        mid = round(len(num)/2)\n",
    "        for _ in range(mid):\n",
    "            if num[_] != num[len(num)-1-_]:\n",
    "                print('no')\n",
    "                break\n",
    "            elif _ == mid-1:\n",
    "                print('yes')\n",
    "\n",
    "while True:\n",
    "    num = input()\n",
    "    if num == '0':\n",
    "        break\n",
    "    else:\n",
    "        check(num)"
   ]
  }
 ],
 "metadata": {
  "interpreter": {
   "hash": "58f3200799d21aba491de0d207ae89fe19e8eb3408d50420b41a55932747002c"
  },
  "kernelspec": {
   "display_name": "Python 3.7.3 64-bit ('boj': conda)",
   "language": "python",
   "name": "python3"
  },
  "language_info": {
   "codemirror_mode": {
    "name": "ipython",
    "version": 3
   },
   "file_extension": ".py",
   "mimetype": "text/x-python",
   "name": "python",
   "nbconvert_exporter": "python",
   "pygments_lexer": "ipython3",
   "version": "3.7.3"
  },
  "orig_nbformat": 4
 },
 "nbformat": 4,
 "nbformat_minor": 2
}
