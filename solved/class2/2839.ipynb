{
 "cells": [
  {
   "cell_type": "code",
   "execution_count": null,
   "metadata": {},
   "outputs": [],
   "source": [
    "# memory : 114328 KB\n",
    "# time : 116 ms\n",
    "\n",
    "import sys\n",
    "\n",
    "n = int(sys.stdin.readline())\n",
    "\n",
    "ans = n\n",
    "\n",
    "for x in range(n//3):\n",
    "    for y in range(n//5):\n",
    "        if (3*x+5*y)==n:\n",
    "            ans = min(ans,x+y)\n",
    "\n",
    "if ans != n:\n",
    "    print(ans)\n",
    "else:\n",
    "    print(-1)"
   ]
  }
 ],
 "metadata": {
  "language_info": {
   "name": "python"
  },
  "orig_nbformat": 4
 },
 "nbformat": 4,
 "nbformat_minor": 2
}
