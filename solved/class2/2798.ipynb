{
 "cells": [
  {
   "cell_type": "code",
   "execution_count": 1,
   "metadata": {},
   "outputs": [],
   "source": [
    "# memory : 114488 KB\n",
    "# time : 128 ms\n",
    "\n",
    "import sys\n",
    "\n",
    "n, m = map(int,sys.stdin.readline().split())\n",
    "\n",
    "l = list(map(int,sys.stdin.readline().split()))\n",
    "\n",
    "ans = 0\n",
    "\n",
    "for x in range(n-2):\n",
    "    for y in range(x+1, n-1):\n",
    "        for z in range(y+1, n):\n",
    "            s = l[x]+l[y]+l[z]\n",
    "            if s <= m:\n",
    "                ans = max(ans,s)\n",
    "\n",
    "print(ans)  "
   ]
  }
 ],
 "metadata": {
  "interpreter": {
   "hash": "58f3200799d21aba491de0d207ae89fe19e8eb3408d50420b41a55932747002c"
  },
  "kernelspec": {
   "display_name": "Python 3.9.7 ('boj')",
   "language": "python",
   "name": "python3"
  },
  "language_info": {
   "codemirror_mode": {
    "name": "ipython",
    "version": 3
   },
   "file_extension": ".py",
   "mimetype": "text/x-python",
   "name": "python",
   "nbconvert_exporter": "python",
   "pygments_lexer": "ipython3",
   "version": "3.9.7"
  },
  "orig_nbformat": 4
 },
 "nbformat": 4,
 "nbformat_minor": 2
}
