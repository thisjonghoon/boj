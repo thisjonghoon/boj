{
 "cells": [
  {
   "cell_type": "markdown",
   "metadata": {},
   "source": [
    "# Not in PyPy3, but ONLY in Python 3"
   ]
  },
  {
   "cell_type": "code",
   "execution_count": null,
   "metadata": {},
   "outputs": [],
   "source": [
    "# memory : 30840 KB\n",
    "# time : 9456 ms\n",
    "\n",
    "import sys\n",
    "\n",
    "n = int(sys.stdin.readline())\n",
    "\n",
    "n_list = [0]*10001\n",
    "\n",
    "for _ in range(n):\n",
    "    n_list[int(sys.stdin.readline())]+=1\n",
    "\n",
    "for i in range(1,10001):\n",
    "    if n_list[i]!=0:\n",
    "        for j in range(n_list[i]):\n",
    "            print(i)"
   ]
  },
  {
   "cell_type": "code",
   "execution_count": 1,
   "metadata": {},
   "outputs": [],
   "source": [
    "# memory : 30840 KB\n",
    "# time : 10380 ms\n",
    "\n",
    "import sys\n",
    "\n",
    "n = int(sys.stdin.readline())\n",
    "\n",
    "n_list = [0]*10000\n",
    "\n",
    "for _ in range(n):\n",
    "    n_list[int(sys.stdin.readline())-1]+=1\n",
    "\n",
    "for i in range(10000):\n",
    "    if n_list[i]!=0:\n",
    "        for j in range(n_list[i]):\n",
    "            print(i+1)"
   ]
  },
  {
   "cell_type": "code",
   "execution_count": null,
   "metadata": {},
   "outputs": [],
   "source": [
    "# memory : 30840 KB\n",
    "# time : 9460 ms\n",
    "\n",
    "import sys\n",
    "\n",
    "n = int(sys.stdin.readline())\n",
    "\n",
    "n_list = [0]*10001\n",
    "\n",
    "for _ in range(n):\n",
    "    n_list[int(sys.stdin.readline())]+=1\n",
    "\n",
    "for i in range(1,10001):\n",
    "    for j in range(n_list[i]):\n",
    "        print(i)"
   ]
  },
  {
   "cell_type": "code",
   "execution_count": null,
   "metadata": {},
   "outputs": [],
   "source": [
    "# memory : 30840 KB\n",
    "# time : 11572 ms\n",
    "\n",
    "import sys\n",
    "\n",
    "n = int(sys.stdin.readline())\n",
    "\n",
    "n_dict = {}\n",
    "\n",
    "for _ in range(n):\n",
    "    num = int(sys.stdin.readline())\n",
    "    if num in n_dict.keys():\n",
    "        n_dict[num] +=1\n",
    "    else:\n",
    "        n_dict[num] = 1\n",
    "\n",
    "sorted(n_dict.keys())\n",
    "\n",
    "for n in sorted(n_dict.keys()):\n",
    "    for _ in range(n_dict[n]):\n",
    "        print(n)"
   ]
  }
 ],
 "metadata": {
  "interpreter": {
   "hash": "58f3200799d21aba491de0d207ae89fe19e8eb3408d50420b41a55932747002c"
  },
  "kernelspec": {
   "display_name": "Python 3.9.7 ('boj')",
   "language": "python",
   "name": "python3"
  },
  "language_info": {
   "codemirror_mode": {
    "name": "ipython",
    "version": 3
   },
   "file_extension": ".py",
   "mimetype": "text/x-python",
   "name": "python",
   "nbconvert_exporter": "python",
   "pygments_lexer": "ipython3",
   "version": "3.9.7"
  },
  "orig_nbformat": 4
 },
 "nbformat": 4,
 "nbformat_minor": 2
}
