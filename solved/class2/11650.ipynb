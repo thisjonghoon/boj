{
 "cells": [
  {
   "cell_type": "code",
   "execution_count": null,
   "metadata": {},
   "outputs": [],
   "source": [
    "# memory : 128984 KB\n",
    "# time : 308 ms\n",
    "\n",
    "import sys\n",
    "\n",
    "n = int(sys.stdin.readline())\n",
    "\n",
    "n_dict = {}\n",
    "\n",
    "for _ in range(n):\n",
    "    x, y = map(int, sys.stdin.readline().split())\n",
    "    if x in n_dict.keys():\n",
    "        n_dict[x].append(y)\n",
    "    else:\n",
    "        n_dict[x] = [y]\n",
    "\n",
    "for x in sorted(n_dict.keys()):\n",
    "    for y in sorted(n_dict[x]):\n",
    "        print(f'{x} {y}')"
   ]
  }
 ],
 "metadata": {
  "language_info": {
   "name": "python"
  },
  "orig_nbformat": 4
 },
 "nbformat": 4,
 "nbformat_minor": 2
}
