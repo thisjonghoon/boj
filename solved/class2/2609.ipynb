{
 "cells": [
  {
   "cell_type": "code",
   "execution_count": null,
   "metadata": {},
   "outputs": [],
   "source": [
    "# Naive Implementation\n",
    "# memory : 29200 KB\n",
    "# time : 4568 ms\n",
    "\n",
    "x, y = map(int,input().split(' '))\n",
    "\n",
    "# Greatest Common Divisor\n",
    "def gcd(x,y):\n",
    "    for d in range(min(x,y),0,-1):\n",
    "        if x%d == 0 and y%d==0:\n",
    "            return d\n",
    "\n",
    "print(gcd(x,y))\n",
    "\n",
    "# Least Common Multiple\n",
    "def lcm(x,y):\n",
    "    for m in range(max(x,y),x*y+1):\n",
    "        if m%x == 0 and m%y ==0:\n",
    "            return m\n",
    "\n",
    "print(lcm(x,y))"
   ]
  },
  {
   "cell_type": "code",
   "execution_count": null,
   "metadata": {},
   "outputs": [],
   "source": [
    "# Using Euclidean Algorithm\n",
    "# memory : 29200 KB\n",
    "# time : 92 ms\n",
    "\n",
    "x, y = map(int,input().split(' '))\n",
    "\n",
    "# Greatest Common Divisor\n",
    "def gcd(x,y):\n",
    "    while(y):\n",
    "        x,y=y,x%y\n",
    "    return x\n",
    "\n",
    "print(gcd(x,y))\n",
    "\n",
    "# Least Common Multiple\n",
    "def lcm(x,y):\n",
    "    return x*y//gcd(x,y)\n",
    "\n",
    "print(lcm(x,y))"
   ]
  },
  {
   "cell_type": "code",
   "execution_count": null,
   "metadata": {},
   "outputs": [],
   "source": [
    "# Using math Library\n",
    "# memory : 31312 KB\n",
    "# time : 68 ms\n",
    "\n",
    "import math\n",
    "\n",
    "x, y = map(int,input().split(' '))\n",
    "\n",
    "# Greatest Common Divisor\n",
    "print(math.gcd(x,y))\n",
    "\n",
    "# Least Common Multiple\n",
    "print(math.lcm(x,y)) # Python 3.9 or higher"
   ]
  }
 ],
 "metadata": {
  "interpreter": {
   "hash": "58f3200799d21aba491de0d207ae89fe19e8eb3408d50420b41a55932747002c"
  },
  "kernelspec": {
   "display_name": "Python 3.7.3 64-bit ('boj': conda)",
   "language": "python",
   "name": "python3"
  },
  "language_info": {
   "codemirror_mode": {
    "name": "ipython",
    "version": 3
   },
   "file_extension": ".py",
   "mimetype": "text/x-python",
   "name": "python",
   "nbconvert_exporter": "python",
   "pygments_lexer": "ipython3",
   "version": "3.9.7"
  },
  "orig_nbformat": 4
 },
 "nbformat": 4,
 "nbformat_minor": 2
}
