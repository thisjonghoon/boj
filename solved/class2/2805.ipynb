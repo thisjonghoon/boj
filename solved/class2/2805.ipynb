{
 "cells": [
  {
   "cell_type": "code",
   "execution_count": null,
   "metadata": {},
   "outputs": [],
   "source": [
    "# memory : 313948 KB\n",
    "# time : 1048 ms\n",
    "\n",
    "'''\n",
    "첫째 줄에 나무의 수 N과 상근이가 집으로 가져가려고 하는 나무의 길이 M이 주어진다. (1 ≤ N ≤ 1,000,000, 1 ≤ M ≤ 2,000,000,000)\n",
    "\n",
    "둘째 줄에는 나무의 높이가 주어진다. 나무의 높이의 합은 항상 M보다 크거나 같기 때문에, 상근이는 집에 필요한 나무를 항상 가져갈 수 있다. 높이는 1,000,000,000보다 작거나 같은 양의 정수 또는 0이다.'''\n",
    "\n",
    "import sys\n",
    "\n",
    "n, m = map(int,sys.stdin.readline().split())\n",
    "\n",
    "l = list(map(int,sys.stdin.readline().split()))\n",
    "\n",
    "for h in range(max(l),-1):\n",
    "    s = sum(list(map(lambda x: x-h,l)))\n",
    "    if s >= m:\n",
    "        print(h)\n",
    "        break"
   ]
  }
 ],
 "metadata": {
  "language_info": {
   "name": "python"
  },
  "orig_nbformat": 4
 },
 "nbformat": 4,
 "nbformat_minor": 2
}
