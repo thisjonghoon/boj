{
 "cells": [
  {
   "cell_type": "code",
   "execution_count": null,
   "metadata": {},
   "outputs": [],
   "source": [
    "# memory : 117480 KB\n",
    "# time : 800 ms\n",
    "\n",
    "import sys\n",
    "\n",
    "n, m, b = map(int, sys.stdin.readline().split())\n",
    "\n",
    "ground = [list(map(int, sys.stdin.readline().split())) for _ in range(n)]\n",
    "\n",
    "time = 64000000\n",
    "height = 0\n",
    "\n",
    "for target in range(257):\n",
    "    push = 0\n",
    "    pop = 0\n",
    "    for i in range(n):\n",
    "        for j in range(m):\n",
    "            if ground[i][j] > target:\n",
    "                push += (ground[i][j]-target)\n",
    "            else:\n",
    "                pop += (target-ground[i][j])\n",
    "    if b + push - pop < 0:\n",
    "        continue\n",
    "    required = push * 2 + pop\n",
    "    if required <= time:\n",
    "        time = required\n",
    "        height = target\n",
    "\n",
    "print(time, height)"
   ]
  }
 ],
 "metadata": {
  "interpreter": {
   "hash": "58f3200799d21aba491de0d207ae89fe19e8eb3408d50420b41a55932747002c"
  },
  "kernelspec": {
   "display_name": "Python 3.9.7 ('boj')",
   "language": "python",
   "name": "python3"
  },
  "language_info": {
   "codemirror_mode": {
    "name": "ipython",
    "version": 3
   },
   "file_extension": ".py",
   "mimetype": "text/x-python",
   "name": "python",
   "nbconvert_exporter": "python",
   "pygments_lexer": "ipython3",
   "version": "3.9.7"
  },
  "orig_nbformat": 4
 },
 "nbformat": 4,
 "nbformat_minor": 2
}
