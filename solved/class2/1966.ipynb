{
 "cells": [
  {
   "cell_type": "code",
   "execution_count": null,
   "metadata": {},
   "outputs": [],
   "source": [
    "# memory : 127744 KB\n",
    "# time : 148 ms\n",
    "\n",
    "import sys\n",
    "from collections import deque\n",
    "\n",
    "num = int(sys.stdin.readline())\n",
    "\n",
    "flag = True\n",
    "\n",
    "for _ in range(num):\n",
    "    n, m = map(int,sys.stdin.readline().split(' '))\n",
    "    que = deque(enumerate(map(int,sys.stdin.readline().split(' '))))\n",
    "    count = 0\n",
    "\n",
    "    while True:\n",
    "        p = que[0][1]\n",
    "        for k, v in que:\n",
    "            if v > p:\n",
    "                flag = False\n",
    "                break\n",
    "        if flag:\n",
    "            k, v = que.popleft()\n",
    "            count +=1\n",
    "            if k == m:\n",
    "                print(count)\n",
    "                break\n",
    "        else:\n",
    "            que.append(que.popleft())\n",
    "            flag = True"
   ]
  }
 ],
 "metadata": {
  "interpreter": {
   "hash": "58f3200799d21aba491de0d207ae89fe19e8eb3408d50420b41a55932747002c"
  },
  "kernelspec": {
   "display_name": "Python 3.9.7 64-bit ('boj': conda)",
   "language": "python",
   "name": "python3"
  },
  "language_info": {
   "codemirror_mode": {
    "name": "ipython",
    "version": 3
   },
   "file_extension": ".py",
   "mimetype": "text/x-python",
   "name": "python",
   "nbconvert_exporter": "python",
   "pygments_lexer": "ipython3",
   "version": "3.9.7"
  },
  "orig_nbformat": 4
 },
 "nbformat": 4,
 "nbformat_minor": 2
}
