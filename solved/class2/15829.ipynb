{
 "cells": [
  {
   "cell_type": "code",
   "execution_count": null,
   "metadata": {},
   "outputs": [],
   "source": [
    "# 100점\n",
    "# memory : 113248 KB\n",
    "# time : 120 ms\n",
    "\n",
    "import sys\n",
    "\n",
    "L = int(sys.stdin.readline())\n",
    "string = sys.stdin.readline()\n",
    "\n",
    "ans = 0\n",
    "\n",
    "for i in range(L):\n",
    "    ans += (ord(string[i])-96)*31**i\n",
    "\n",
    "ans %= 1234567891\n",
    "\n",
    "print(ans)"
   ]
  }
 ],
 "metadata": {
  "interpreter": {
   "hash": "58f3200799d21aba491de0d207ae89fe19e8eb3408d50420b41a55932747002c"
  },
  "kernelspec": {
   "display_name": "Python 3.9.7 ('boj')",
   "language": "python",
   "name": "python3"
  },
  "language_info": {
   "codemirror_mode": {
    "name": "ipython",
    "version": 3
   },
   "file_extension": ".py",
   "mimetype": "text/x-python",
   "name": "python",
   "nbconvert_exporter": "python",
   "pygments_lexer": "ipython3",
   "version": "3.9.7"
  },
  "orig_nbformat": 4
 },
 "nbformat": 4,
 "nbformat_minor": 2
}
