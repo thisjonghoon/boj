{
 "cells": [
  {
   "cell_type": "code",
   "execution_count": null,
   "metadata": {},
   "outputs": [],
   "source": [
    "# memory : 118452 KB\n",
    "# time : 216 ms\n",
    "\n",
    "import sys\n",
    "from collections import deque\n",
    "\n",
    "n = int(sys.stdin.readline())\n",
    "\n",
    "deq = deque()\n",
    "\n",
    "for _ in range(n):\n",
    "    command = sys.stdin.readline().rstrip()\n",
    "    if 'push_front' in command:\n",
    "        deq.appendleft(int(command.split()[-1]))\n",
    "    elif 'push_back' in command:\n",
    "        deq.append(int(command.split()[-1]))\n",
    "    elif command == 'pop_front':\n",
    "        if len(deq)!=0:\n",
    "            print(deq.popleft())\n",
    "        else:\n",
    "            print(-1)\n",
    "    elif command == 'pop_back':\n",
    "        if len(deq)!=0:\n",
    "            print(deq.pop())\n",
    "        else:\n",
    "            print(-1)        \n",
    "    elif command == 'size':\n",
    "        print(len(deq))\n",
    "    elif command == 'empty':\n",
    "        if deq:\n",
    "            print(0)\n",
    "        else:\n",
    "            print(1)\n",
    "    elif command == 'front':\n",
    "        if len(deq)!=0:\n",
    "            print(deq[0])\n",
    "        else:\n",
    "            print(-1)\n",
    "    elif command == 'back':\n",
    "        if len(deq)!=0:\n",
    "            print(deq[-1])\n",
    "        else:\n",
    "            print(-1)"
   ]
  }
 ],
 "metadata": {
  "language_info": {
   "name": "python"
  },
  "orig_nbformat": 4
 },
 "nbformat": 4,
 "nbformat_minor": 2
}
