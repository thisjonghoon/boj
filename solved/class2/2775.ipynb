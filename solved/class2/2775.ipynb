{
 "cells": [
  {
   "cell_type": "code",
   "execution_count": null,
   "metadata": {},
   "outputs": [],
   "source": [
    "# memory : 114328 KB\n",
    "# time : 112 ms\n",
    "\n",
    "import sys\n",
    "\n",
    "T = int(sys.stdin.readline())\n",
    "\n",
    "for _ in range(T):\n",
    "    k = int(sys.stdin.readline())\n",
    "    n = int(sys.stdin.readline())\n",
    "    f = [x for x in range(1,n+1)]\n",
    "    for floor in range(k):\n",
    "        for number in range(1,n):\n",
    "            f[number] += f[number-1]\n",
    "    print(f[-1])"
   ]
  }
 ],
 "metadata": {
  "interpreter": {
   "hash": "58f3200799d21aba491de0d207ae89fe19e8eb3408d50420b41a55932747002c"
  },
  "kernelspec": {
   "display_name": "Python 3.9.7 ('boj')",
   "language": "python",
   "name": "python3"
  },
  "language_info": {
   "name": "python",
   "version": "3.9.7"
  },
  "orig_nbformat": 4
 },
 "nbformat": 4,
 "nbformat_minor": 2
}
