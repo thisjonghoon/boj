{
 "cells": [
  {
   "cell_type": "code",
   "execution_count": null,
   "metadata": {},
   "outputs": [],
   "source": [
    "# memory : 115124 KB\n",
    "# time : 144 ms\n",
    "\n",
    "import sys\n",
    "from collections import deque\n",
    "\n",
    "n = int(sys.stdin.readline())\n",
    "\n",
    "for _ in range(n):\n",
    "\n",
    "    stack = deque()\n",
    "    flag = True\n",
    "    \n",
    "    string = sys.stdin.readline()\n",
    "\n",
    "    for letter in string:\n",
    "        if letter=='(':\n",
    "            stack.append(letter)\n",
    "        elif letter==')':\n",
    "            if not stack or stack.pop()!='(':\n",
    "                flag = False\n",
    "                break\n",
    "        \n",
    "    if not stack and flag == True:\n",
    "        print('YES')\n",
    "    else:\n",
    "        print('NO')"
   ]
  }
 ],
 "metadata": {
  "language_info": {
   "name": "python"
  },
  "orig_nbformat": 4
 },
 "nbformat": 4,
 "nbformat_minor": 2
}
