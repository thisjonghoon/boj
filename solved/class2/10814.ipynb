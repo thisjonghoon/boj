{
 "cells": [
  {
   "cell_type": "code",
   "execution_count": null,
   "metadata": {},
   "outputs": [],
   "source": [
    "# memory : 123880 KB\n",
    "# time : 256 ms\n",
    "\n",
    "import sys\n",
    "from collections import deque\n",
    "\n",
    "n = int(sys.stdin.readline())\n",
    "member_dict = {}\n",
    "\n",
    "for _ in range(n):\n",
    "    age, name = sys.stdin.readline().split()\n",
    "    age = int(age)\n",
    "\n",
    "    if age in member_dict.keys():\n",
    "        member_dict[age].append(name)\n",
    "    else:\n",
    "        member_dict[age] = deque([name])\n",
    "\n",
    "for a in sorted(member_dict.keys()):\n",
    "    while member_dict[a]:\n",
    "        print(f'{a} {member_dict[a].popleft()}')"
   ]
  }
 ],
 "metadata": {
  "language_info": {
   "name": "python"
  },
  "orig_nbformat": 4
 },
 "nbformat": 4,
 "nbformat_minor": 2
}
