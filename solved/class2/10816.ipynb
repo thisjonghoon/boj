{
 "cells": [
  {
   "cell_type": "code",
   "execution_count": null,
   "metadata": {},
   "outputs": [],
   "source": [
    "# memory : 235292 KB\n",
    "# time : 624 ms\n",
    "\n",
    "import sys\n",
    "\n",
    "n = int(sys.stdin.readline())\n",
    "\n",
    "n_list = list(map(int,sys.stdin.readline().split()))\n",
    "\n",
    "n_dict = {}\n",
    "\n",
    "for num in n_list:\n",
    "    if num in n_dict.keys():\n",
    "        n_dict[num] += 1\n",
    "    else:\n",
    "        n_dict[num] = 1\n",
    "\n",
    "m = int(sys.stdin.readline())\n",
    "\n",
    "m_list = list(map(int,sys.stdin.readline().split()))\n",
    "\n",
    "for target in m_list:\n",
    "    if target in n_dict.keys():\n",
    "        print(n_dict[target], end=' ')\n",
    "    else:\n",
    "        print(0, end=' ')"
   ]
  }
 ],
 "metadata": {
  "language_info": {
   "name": "python"
  },
  "orig_nbformat": 4
 },
 "nbformat": 4,
 "nbformat_minor": 2
}
