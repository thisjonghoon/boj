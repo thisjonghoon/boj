{
 "cells": [
  {
   "cell_type": "code",
   "execution_count": null,
   "metadata": {},
   "outputs": [],
   "source": [
    "# memory : 125444 KB\n",
    "# time : 120 ms\n",
    "\n",
    "import sys\n",
    "\n",
    "k, n = map(int, sys.stdin.readline().split(' '))\n",
    "\n",
    "k_list = [int(sys.stdin.readline()) for _ in range(k)]\n",
    "\n",
    "start, end = 1, max(k_list)\n",
    "\n",
    "while start <= end:\n",
    "    mid = (start+end)//2\n",
    "    num_of_lan = sum(map(lambda x : x//mid, k_list))\n",
    "    if num_of_lan >= n:\n",
    "        start = mid+1\n",
    "    else:\n",
    "        end = mid-1\n",
    "\n",
    "print(end)"
   ]
  }
 ],
 "metadata": {
  "interpreter": {
   "hash": "58f3200799d21aba491de0d207ae89fe19e8eb3408d50420b41a55932747002c"
  },
  "kernelspec": {
   "display_name": "Python 3.9.7 64-bit ('boj': conda)",
   "language": "python",
   "name": "python3"
  },
  "language_info": {
   "codemirror_mode": {
    "name": "ipython",
    "version": 3
   },
   "file_extension": ".py",
   "mimetype": "text/x-python",
   "name": "python",
   "nbconvert_exporter": "python",
   "pygments_lexer": "ipython3",
   "version": "3.9.7"
  },
  "orig_nbformat": 4
 },
 "nbformat": 4,
 "nbformat_minor": 2
}
