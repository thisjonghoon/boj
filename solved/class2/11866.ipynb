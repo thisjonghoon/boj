{
 "cells": [
  {
   "cell_type": "code",
   "execution_count": 17,
   "metadata": {},
   "outputs": [],
   "source": [
    "# memory : 115640 KB\n",
    "# time : 164 ms\n",
    "\n",
    "import sys\n",
    "from collections import deque\n",
    "\n",
    "n, k = map(int, sys.stdin.readline().split())\n",
    "\n",
    "deq = deque(range(1,n+1))\n",
    "\n",
    "print('<', end='')\n",
    "\n",
    "while deq:\n",
    "    for i in range(k-1):\n",
    "        deq.append(deq.popleft())\n",
    "    if len(deq)>1:\n",
    "        print(deq.popleft(), end=', ')\n",
    "    else:\n",
    "        print(deq.popleft(), end='>')"
   ]
  }
 ],
 "metadata": {
  "interpreter": {
   "hash": "58f3200799d21aba491de0d207ae89fe19e8eb3408d50420b41a55932747002c"
  },
  "kernelspec": {
   "display_name": "Python 3.9.7 ('boj')",
   "language": "python",
   "name": "python3"
  },
  "language_info": {
   "codemirror_mode": {
    "name": "ipython",
    "version": 3
   },
   "file_extension": ".py",
   "mimetype": "text/x-python",
   "name": "python",
   "nbconvert_exporter": "python",
   "pygments_lexer": "ipython3",
   "version": "3.9.7"
  },
  "orig_nbformat": 4
 },
 "nbformat": 4,
 "nbformat_minor": 2
}
