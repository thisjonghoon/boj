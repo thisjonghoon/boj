{
 "cells": [
  {
   "cell_type": "code",
   "execution_count": null,
   "metadata": {},
   "outputs": [],
   "source": [
    "# memory : 117844 KB\n",
    "# time : 172 ms\n",
    "\n",
    "import sys\n",
    "from collections import deque\n",
    "\n",
    "k = int(sys.stdin.readline())\n",
    "stack = deque()\n",
    "\n",
    "for _ in range(k):\n",
    "    n = int(sys.stdin.readline())\n",
    "    if n == 0:\n",
    "        stack.pop()\n",
    "    else:\n",
    "        stack.append(n)\n",
    "\n",
    "print(sum(stack))"
   ]
  }
 ],
 "metadata": {
  "language_info": {
   "name": "python"
  },
  "orig_nbformat": 4
 },
 "nbformat": 4,
 "nbformat_minor": 2
}
