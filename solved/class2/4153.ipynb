{
 "cells": [
  {
   "cell_type": "code",
   "execution_count": null,
   "metadata": {},
   "outputs": [],
   "source": [
    "# memory : 113112 KB\n",
    "# time : 104 ms\n",
    "\n",
    "import sys\n",
    "\n",
    "while True:\n",
    "    l=sorted(list(map(int,sys.stdin.readline().split())))\n",
    "    if sum(l) == 0:\n",
    "        break\n",
    "    elif l[0]**2+l[1]**2==l[-1]**2:\n",
    "        print('right')\n",
    "    else:\n",
    "        print('wrong')"
   ]
  }
 ],
 "metadata": {
  "language_info": {
   "name": "python"
  },
  "orig_nbformat": 4
 },
 "nbformat": 4,
 "nbformat_minor": 2
}
