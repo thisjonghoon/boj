{
 "cells": [
  {
   "cell_type": "code",
   "execution_count": null,
   "metadata": {},
   "outputs": [],
   "source": [
    "# Naive Implementation -> timeout\n",
    "\n",
    "num = int(input())\n",
    "\n",
    "num_list = list(range(1,num+1))\n",
    "\n",
    "while len(num_list) != 1:\n",
    "    del num_list[0]\n",
    "    num_list += [num_list.pop(0)]\n",
    "\n",
    "print(num_list[0])"
   ]
  },
  {
   "cell_type": "code",
   "execution_count": null,
   "metadata": {},
   "outputs": [],
   "source": [
    "# Using deque module in collections library\n",
    "# memory : 140048 KB\n",
    "# time : 184 ms\n",
    "\n",
    "import sys\n",
    "from collections import deque\n",
    "\n",
    "num = int(sys.stdin.readline())\n",
    "\n",
    "num_deque = deque(range(1,num+1))\n",
    "\n",
    "while len(num_deque) != 1:\n",
    "    num_deque.popleft()                     # remove the first card\n",
    "    num_deque.append(num_deque.popleft())   # move the second card to the bottom\n",
    "    \n",
    "print(num_deque[0])"
   ]
  }
 ],
 "metadata": {
  "interpreter": {
   "hash": "58f3200799d21aba491de0d207ae89fe19e8eb3408d50420b41a55932747002c"
  },
  "kernelspec": {
   "display_name": "Python 3.7.3 64-bit ('boj': conda)",
   "language": "python",
   "name": "python3"
  },
  "language_info": {
   "codemirror_mode": {
    "name": "ipython",
    "version": 3
   },
   "file_extension": ".py",
   "mimetype": "text/x-python",
   "name": "python",
   "nbconvert_exporter": "python",
   "pygments_lexer": "ipython3",
   "version": "3.9.7"
  },
  "orig_nbformat": 4
 },
 "nbformat": 4,
 "nbformat_minor": 2
}
