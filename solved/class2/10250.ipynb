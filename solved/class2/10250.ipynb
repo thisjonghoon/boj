{
 "cells": [
  {
   "cell_type": "code",
   "execution_count": null,
   "metadata": {},
   "outputs": [],
   "source": [
    "# memory : 113248 KB\n",
    "# time : 120 ms\n",
    "\n",
    "import sys\n",
    "\n",
    "n = int(sys.stdin.readline())\n",
    "\n",
    "for _ in range(n):\n",
    "    h, w, n = map(int,sys.stdin.readline().split())\n",
    "    mod = n%h\n",
    "    print(f'{h}{n//h:02.0f}' if mod == 0 else f'{mod}{n//h+1:02.0f}')"
   ]
  }
 ],
 "metadata": {
  "language_info": {
   "name": "python"
  },
  "orig_nbformat": 4
 },
 "nbformat": 4,
 "nbformat_minor": 2
}
