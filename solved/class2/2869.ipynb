{
 "cells": [
  {
   "cell_type": "code",
   "execution_count": null,
   "metadata": {},
   "outputs": [],
   "source": [
    "# memory : 113248 KB\n",
    "# time : 108 ms\n",
    "\n",
    "import sys\n",
    "\n",
    "a, b, v = list(map(int,sys.stdin.readline().split()))\n",
    "\n",
    "if (v-a)%(a-b)==0:\n",
    "    print(((v-a)//(a-b))+1)\n",
    "else:\n",
    "    print(((v-a)//(a-b))+2)"
   ]
  }
 ],
 "metadata": {
  "language_info": {
   "name": "python"
  },
  "orig_nbformat": 4
 },
 "nbformat": 4,
 "nbformat_minor": 2
}
