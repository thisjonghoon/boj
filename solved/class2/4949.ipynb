{
 "cells": [
  {
   "cell_type": "code",
   "execution_count": null,
   "metadata": {},
   "outputs": [],
   "source": [
    "# memory : 117000 KB\n",
    "# time : 204 ms\n",
    "\n",
    "import sys\n",
    "from collections import deque\n",
    "\n",
    "while True:\n",
    "\n",
    "    string = sys.stdin.readline()\n",
    "    if string == '.\\n':\n",
    "        break\n",
    "\n",
    "    stack = deque()\n",
    "    flag = True\n",
    "\n",
    "    for letter in string:\n",
    "        if letter=='(' or letter=='[':\n",
    "            stack.append(letter)\n",
    "        elif letter==')':\n",
    "            if not stack or stack.pop()!='(':\n",
    "                flag = False\n",
    "                break\n",
    "        elif letter==']':\n",
    "            if not stack or stack.pop()!='[':\n",
    "                flag = False\n",
    "                break\n",
    "        \n",
    "    if flag == True and not stack:\n",
    "        print('yes')\n",
    "    else:\n",
    "        print('no')"
   ]
  }
 ],
 "metadata": {
  "language_info": {
   "name": "python"
  },
  "orig_nbformat": 4
 },
 "nbformat": 4,
 "nbformat_minor": 2
}
