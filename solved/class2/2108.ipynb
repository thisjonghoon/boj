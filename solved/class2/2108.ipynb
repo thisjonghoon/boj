{
 "cells": [
  {
   "cell_type": "code",
   "execution_count": null,
   "metadata": {},
   "outputs": [],
   "source": [
    "# memory : 159608 KB\n",
    "# time : 360 ms\n",
    "\n",
    "import sys\n",
    "from collections import Counter\n",
    "\n",
    "n = int(sys.stdin.readline())\n",
    "\n",
    "num_list = []\n",
    "\n",
    "for _ in range(n):\n",
    "    num_list.append(int(sys.stdin.readline()))\n",
    "\n",
    "num_list.sort()\n",
    "\n",
    "# mean\n",
    "print(round(sum(num_list)/len(num_list)))\n",
    "\n",
    "# median\n",
    "print(num_list[len(num_list)//2])\n",
    "\n",
    "# mode\n",
    "c = Counter(num_list)\n",
    "m = c.most_common()\n",
    "times = m[0][1]\n",
    "\n",
    "mode_list = []\n",
    "\n",
    "for k, v in m:\n",
    "    if v == times:\n",
    "        mode_list.append(k)\n",
    "if len(mode_list) >= 2:\n",
    "    print(sorted(mode_list)[1])\n",
    "else:\n",
    "    print(sorted(mode_list)[0])\n",
    "\n",
    "# range\n",
    "print(max(num_list)-min(num_list))"
   ]
  }
 ],
 "metadata": {
  "interpreter": {
   "hash": "58f3200799d21aba491de0d207ae89fe19e8eb3408d50420b41a55932747002c"
  },
  "kernelspec": {
   "display_name": "Python 3.9.7 64-bit ('boj': conda)",
   "language": "python",
   "name": "python3"
  },
  "language_info": {
   "codemirror_mode": {
    "name": "ipython",
    "version": 3
   },
   "file_extension": ".py",
   "mimetype": "text/x-python",
   "name": "python",
   "nbconvert_exporter": "python",
   "pygments_lexer": "ipython3",
   "version": "3.9.7"
  },
  "orig_nbformat": 4
 },
 "nbformat": 4,
 "nbformat_minor": 2
}
