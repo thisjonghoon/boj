{
 "cells": [
  {
   "cell_type": "code",
   "execution_count": null,
   "metadata": {},
   "outputs": [],
   "source": [
    "# memory : 113112 KB\n",
    "# time : 112 ms\n",
    "\n",
    "import math, sys\n",
    "\n",
    "n, k = map(int,sys.stdin.readline().split())\n",
    "\n",
    "print(math.comb(n,k))"
   ]
  }
 ],
 "metadata": {
  "language_info": {
   "name": "python"
  },
  "orig_nbformat": 4
 },
 "nbformat": 4,
 "nbformat_minor": 2
}
