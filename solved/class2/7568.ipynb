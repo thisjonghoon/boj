{
 "cells": [
  {
   "cell_type": "code",
   "execution_count": 1,
   "metadata": {},
   "outputs": [],
   "source": [
    "# memory : 114328 KB\n",
    "# time : 120 ms\n",
    "\n",
    "import sys\n",
    "\n",
    "n = int(sys.stdin.readline())\n",
    "body_list = []\n",
    "\n",
    "for _ in range(n):\n",
    "    body = tuple(map(int, sys.stdin.readline().split()))\n",
    "    body_list.append(body)\n",
    "\n",
    "for x, y in body_list:\n",
    "    rank = 1\n",
    "    for p, q in body_list:\n",
    "        if x > q and y > q:\n",
    "            rank += 1  \n",
    "    print(rank, end=' ')"
   ]
  }
 ],
 "metadata": {
  "interpreter": {
   "hash": "5bf88e84f9176c33eca98e8a29aa2f012f6284d6068efc5096ccf6b787077aec"
  },
  "kernelspec": {
   "display_name": "Python 3.7.3 ('base')",
   "language": "python",
   "name": "python3"
  },
  "language_info": {
   "codemirror_mode": {
    "name": "ipython",
    "version": 3
   },
   "file_extension": ".py",
   "mimetype": "text/x-python",
   "name": "python",
   "nbconvert_exporter": "python",
   "pygments_lexer": "ipython3",
   "version": "3.9.7"
  },
  "orig_nbformat": 4
 },
 "nbformat": 4,
 "nbformat_minor": 2
}
