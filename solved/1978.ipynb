{
 "cells": [
  {
   "cell_type": "code",
   "execution_count": 10,
   "metadata": {},
   "outputs": [
    {
     "name": "stdout",
     "output_type": "stream",
     "text": [
      "[2, 3, 5, 7, 11, 13, 17, 19, 23, 29, 31, 37, 41, 43, 47, 53, 59, 61, 67, 71, 73, 79, 83, 89, 97, 101, 103, 107, 109, 113, 127, 131, 137, 139, 149, 151, 157, 163, 167, 173, 179, 181, 191, 193, 197, 199, 211, 223, 227, 229, 233, 239, 241, 251, 257, 263, 269, 271, 277, 281, 283, 293, 307, 311, 313, 317, 331, 337, 347, 349, 353, 359, 367, 373, 379, 383, 389, 397, 401, 409, 419, 421, 431, 433, 439, 443, 449, 457, 461, 463, 467, 479, 487, 491, 499, 503, 509, 521, 523, 541, 547, 557, 563, 569, 571, 577, 587, 593, 599, 601, 607, 613, 617, 619, 631, 641, 643, 647, 653, 659, 661, 673, 677, 683, 691, 701, 709, 719, 727, 733, 739, 743, 751, 757, 761, 769, 773, 787, 797, 809, 811, 821, 823, 827, 829, 839, 853, 857, 859, 863, 877, 881, 883, 887, 907, 911, 919, 929, 937, 941, 947, 953, 967, 971, 977, 983, 991, 997]\n",
      "3\n"
     ]
    }
   ],
   "source": [
    "def count_prime_under_1000(n, num_list):\n",
    "    \n",
    "    count = 0\n",
    "\n",
    "    def make_prime_number_list_2to1000():\n",
    "        prime_number_list_2to1000 = [2]\n",
    "        for i in range(3,1000,2):\n",
    "            for j in prime_number_list_2to1000:\n",
    "                if i%j == 0:\n",
    "                    break\n",
    "                elif j == prime_number_list_2to1000[-1]:\n",
    "                    prime_number_list_2to1000.append(i)\n",
    "        return prime_number_list_2to1000\n",
    "    \n",
    "    prime_number_list = make_prime_number_list_2to1000()\n",
    "    \n",
    "    for i in range(n):\n",
    "        if num_list[i] in prime_number_list:\n",
    "            count += 1\n",
    "\n",
    "    print(count)\n",
    "\n",
    "n = int(input())\n",
    "num_list = list(map(int, input().split(' ')))\n",
    "\n",
    "count_prime_under_1000(n, num_list)"
   ]
  }
 ],
 "metadata": {
  "interpreter": {
   "hash": "58f3200799d21aba491de0d207ae89fe19e8eb3408d50420b41a55932747002c"
  },
  "kernelspec": {
   "display_name": "Python 3.7.3 64-bit ('boj': conda)",
   "language": "python",
   "name": "python3"
  },
  "language_info": {
   "codemirror_mode": {
    "name": "ipython",
    "version": 3
   },
   "file_extension": ".py",
   "mimetype": "text/x-python",
   "name": "python",
   "nbconvert_exporter": "python",
   "pygments_lexer": "ipython3",
   "version": "3.7.3"
  },
  "orig_nbformat": 4
 },
 "nbformat": 4,
 "nbformat_minor": 2
}
