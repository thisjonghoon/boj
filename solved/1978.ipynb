{
 "cells": [
  {
   "cell_type": "code",
   "execution_count": null,
   "metadata": {},
   "outputs": [],
   "source": [
    "# memory : 124504 KB\n",
    "# time : 120 ms\n",
    "\n",
    "def count_prime_under_1000(n, num_list):\n",
    "    \n",
    "    count = 0\n",
    "\n",
    "    def make_prime_number_list_2to1000():\n",
    "        prime_number_list_2to1000 = [2]\n",
    "        for i in range(3,1000,2):\n",
    "            for j in prime_number_list_2to1000:\n",
    "                if i%j == 0:\n",
    "                    break\n",
    "                elif j == prime_number_list_2to1000[-1]:\n",
    "                    prime_number_list_2to1000.append(i)\n",
    "        return prime_number_list_2to1000\n",
    "    \n",
    "    prime_number_list = make_prime_number_list_2to1000()\n",
    "    \n",
    "    for i in range(n):\n",
    "        if num_list[i] in prime_number_list:\n",
    "            count += 1\n",
    "\n",
    "    print(count)\n",
    "\n",
    "n = int(input())\n",
    "num_list = list(map(int, input().split(' ')))\n",
    "\n",
    "count_prime_under_1000(n, num_list)"
   ]
  }
 ],
 "metadata": {
  "interpreter": {
   "hash": "58f3200799d21aba491de0d207ae89fe19e8eb3408d50420b41a55932747002c"
  },
  "kernelspec": {
   "display_name": "Python 3.7.3 64-bit ('boj': conda)",
   "language": "python",
   "name": "python3"
  },
  "language_info": {
   "codemirror_mode": {
    "name": "ipython",
    "version": 3
   },
   "file_extension": ".py",
   "mimetype": "text/x-python",
   "name": "python",
   "nbconvert_exporter": "python",
   "pygments_lexer": "ipython3",
   "version": "3.7.3"
  },
  "orig_nbformat": 4
 },
 "nbformat": 4,
 "nbformat_minor": 2
}
