{
 "cells": [
  {
   "cell_type": "code",
   "execution_count": null,
   "metadata": {},
   "outputs": [],
   "source": [
    "# memory : 132232 KB\n",
    "# time : 244 ms\n",
    "\n",
    "import sys\n",
    "from collections import deque\n",
    "\n",
    "answer = deque([])\n",
    "stack = []\n",
    "num = 0\n",
    "flag = True\n",
    "\n",
    "n = int(sys.stdin.readline())\n",
    "\n",
    "for _ in range(n):\n",
    "    input_num = int(sys.stdin.readline())\n",
    "    while num < input_num:\n",
    "        num +=1\n",
    "        stack.append(num)\n",
    "        answer.append('+')\n",
    "    if stack.pop() == input_num:\n",
    "        answer.append('-')\n",
    "    else:\n",
    "        print('NO')\n",
    "        flag = False\n",
    "        break\n",
    "\n",
    "if flag:\n",
    "    while answer:\n",
    "        print(answer.popleft())"
   ]
  }
 ],
 "metadata": {
  "interpreter": {
   "hash": "58f3200799d21aba491de0d207ae89fe19e8eb3408d50420b41a55932747002c"
  },
  "kernelspec": {
   "display_name": "Python 3.9.7 64-bit ('boj': conda)",
   "language": "python",
   "name": "python3"
  },
  "language_info": {
   "codemirror_mode": {
    "name": "ipython",
    "version": 3
   },
   "file_extension": ".py",
   "mimetype": "text/x-python",
   "name": "python",
   "nbconvert_exporter": "python",
   "pygments_lexer": "ipython3",
   "version": "3.9.7"
  },
  "orig_nbformat": 4
 },
 "nbformat": 4,
 "nbformat_minor": 2
}
